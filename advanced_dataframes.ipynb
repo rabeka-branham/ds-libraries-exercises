{
 "cells": [
  {
   "cell_type": "code",
   "execution_count": 99,
   "id": "d9c7c152-177b-47bd-bd65-c74e358375ff",
   "metadata": {
    "tags": []
   },
   "outputs": [],
   "source": [
    "import pandas as pd\n",
    "import numpy as np"
   ]
  },
  {
   "cell_type": "markdown",
   "id": "a1926b52-d7e6-40e5-beae-d3c892eee022",
   "metadata": {
    "tags": []
   },
   "source": [
    "### Create a function named get_db_url. It should accept a username, hostname, password, and database name and return a url connection string formatted like in the example at the start of this lesson."
   ]
  },
  {
   "cell_type": "code",
   "execution_count": 98,
   "id": "fd28f375-c243-4ffd-80db-cbe47f17f1c3",
   "metadata": {
    "tags": []
   },
   "outputs": [],
   "source": [
    "import env"
   ]
  },
  {
   "cell_type": "code",
   "execution_count": 97,
   "id": "bfc1db16-2c49-4a71-a264-0f10bfb6a01f",
   "metadata": {
    "tags": []
   },
   "outputs": [],
   "source": [
    "def get_db_url(username, hostname, password, database_name):\n",
    "    url = f'mysql+pymysql://{username}:{password}@{hostname}/{database_name}'\n",
    "    return url"
   ]
  },
  {
   "cell_type": "markdown",
   "id": "6b0e32c5-ee33-4b84-a154-fc26869a45f4",
   "metadata": {
    "tags": []
   },
   "source": [
    "### Use your function to obtain a connection to the employees database."
   ]
  },
  {
   "cell_type": "code",
   "execution_count": 95,
   "id": "3ed5bfea-e86b-4bae-9d27-aa79e66bd8a4",
   "metadata": {
    "tags": []
   },
   "outputs": [],
   "source": [
    "url = get_db_url(env.username, env.host, env.password, 'employees')"
   ]
  },
  {
   "cell_type": "code",
   "execution_count": 100,
   "id": "521bd543-01d1-4303-b0e1-0195c6650a70",
   "metadata": {
    "tags": []
   },
   "outputs": [
    {
     "data": {
      "text/html": [
       "<div>\n",
       "<style scoped>\n",
       "    .dataframe tbody tr th:only-of-type {\n",
       "        vertical-align: middle;\n",
       "    }\n",
       "\n",
       "    .dataframe tbody tr th {\n",
       "        vertical-align: top;\n",
       "    }\n",
       "\n",
       "    .dataframe thead th {\n",
       "        text-align: right;\n",
       "    }\n",
       "</style>\n",
       "<table border=\"1\" class=\"dataframe\">\n",
       "  <thead>\n",
       "    <tr style=\"text-align: right;\">\n",
       "      <th></th>\n",
       "      <th>emp_no</th>\n",
       "      <th>birth_date</th>\n",
       "      <th>first_name</th>\n",
       "      <th>last_name</th>\n",
       "      <th>gender</th>\n",
       "      <th>hire_date</th>\n",
       "    </tr>\n",
       "  </thead>\n",
       "  <tbody>\n",
       "    <tr>\n",
       "      <th>0</th>\n",
       "      <td>10001</td>\n",
       "      <td>1953-09-02</td>\n",
       "      <td>Georgi</td>\n",
       "      <td>Facello</td>\n",
       "      <td>M</td>\n",
       "      <td>1986-06-26</td>\n",
       "    </tr>\n",
       "    <tr>\n",
       "      <th>1</th>\n",
       "      <td>10002</td>\n",
       "      <td>1964-06-02</td>\n",
       "      <td>Bezalel</td>\n",
       "      <td>Simmel</td>\n",
       "      <td>F</td>\n",
       "      <td>1985-11-21</td>\n",
       "    </tr>\n",
       "    <tr>\n",
       "      <th>2</th>\n",
       "      <td>10003</td>\n",
       "      <td>1959-12-03</td>\n",
       "      <td>Parto</td>\n",
       "      <td>Bamford</td>\n",
       "      <td>M</td>\n",
       "      <td>1986-08-28</td>\n",
       "    </tr>\n",
       "    <tr>\n",
       "      <th>3</th>\n",
       "      <td>10004</td>\n",
       "      <td>1954-05-01</td>\n",
       "      <td>Chirstian</td>\n",
       "      <td>Koblick</td>\n",
       "      <td>M</td>\n",
       "      <td>1986-12-01</td>\n",
       "    </tr>\n",
       "    <tr>\n",
       "      <th>4</th>\n",
       "      <td>10005</td>\n",
       "      <td>1955-01-21</td>\n",
       "      <td>Kyoichi</td>\n",
       "      <td>Maliniak</td>\n",
       "      <td>M</td>\n",
       "      <td>1989-09-12</td>\n",
       "    </tr>\n",
       "  </tbody>\n",
       "</table>\n",
       "</div>"
      ],
      "text/plain": [
       "   emp_no  birth_date first_name last_name gender   hire_date\n",
       "0   10001  1953-09-02     Georgi   Facello      M  1986-06-26\n",
       "1   10002  1964-06-02    Bezalel    Simmel      F  1985-11-21\n",
       "2   10003  1959-12-03      Parto   Bamford      M  1986-08-28\n",
       "3   10004  1954-05-01  Chirstian   Koblick      M  1986-12-01\n",
       "4   10005  1955-01-21    Kyoichi  Maliniak      M  1989-09-12"
      ]
     },
     "execution_count": 100,
     "metadata": {},
     "output_type": "execute_result"
    }
   ],
   "source": [
    "pd.read_sql('select * from employees limit 5', url)"
   ]
  },
  {
   "cell_type": "markdown",
   "id": "b2166c9c-b6f5-4e47-bf64-634d35a08395",
   "metadata": {},
   "source": [
    "### Once you have successfully run a query:\n",
    "\n",
    "a. Intentionally make a typo in the database url. What kind of error message do you see?"
   ]
  },
  {
   "cell_type": "markdown",
   "id": "a113f421-d8b3-45cd-97ea-89f932bdc1b0",
   "metadata": {},
   "source": [
    "> \"Access denied for user 'blahblahblah' to database 'employes'\""
   ]
  },
  {
   "cell_type": "markdown",
   "id": "3de7db68-74e9-464e-86eb-0212337ef755",
   "metadata": {},
   "source": [
    "b. Intentionally make an error in your SQL query. What does the error message look like?"
   ]
  },
  {
   "cell_type": "markdown",
   "id": "347a0c7d-ef1f-4d51-831b-9287cca30b67",
   "metadata": {},
   "source": [
    "> You have an error in your SQL syntax; check the manual that corresponds to your MySQL server version for the right syntax to use near 'from employees limit 5' at line 1"
   ]
  },
  {
   "cell_type": "markdown",
   "id": "2d247859-0e59-4eef-9e23-b5d1cf2be8fb",
   "metadata": {},
   "source": [
    "### Read the employees and titles tables into two separate DataFrames."
   ]
  },
  {
   "cell_type": "code",
   "execution_count": null,
   "id": "aa19cfc3-5f26-49c0-81cd-6e728f524971",
   "metadata": {
    "tags": []
   },
   "outputs": [],
   "source": [
    "df_employees = pd.read_sql('select * from employees', url)\n",
    "df_employees"
   ]
  },
  {
   "cell_type": "code",
   "execution_count": 69,
   "id": "9e5b501b-5e2a-4355-b590-6828e4cc4120",
   "metadata": {
    "tags": []
   },
   "outputs": [
    {
     "data": {
      "text/html": [
       "<div>\n",
       "<style scoped>\n",
       "    .dataframe tbody tr th:only-of-type {\n",
       "        vertical-align: middle;\n",
       "    }\n",
       "\n",
       "    .dataframe tbody tr th {\n",
       "        vertical-align: top;\n",
       "    }\n",
       "\n",
       "    .dataframe thead th {\n",
       "        text-align: right;\n",
       "    }\n",
       "</style>\n",
       "<table border=\"1\" class=\"dataframe\">\n",
       "  <thead>\n",
       "    <tr style=\"text-align: right;\">\n",
       "      <th></th>\n",
       "      <th>emp_no</th>\n",
       "      <th>title</th>\n",
       "      <th>from_date</th>\n",
       "      <th>to_date</th>\n",
       "    </tr>\n",
       "  </thead>\n",
       "  <tbody>\n",
       "    <tr>\n",
       "      <th>0</th>\n",
       "      <td>10001</td>\n",
       "      <td>Senior Engineer</td>\n",
       "      <td>1986-06-26</td>\n",
       "      <td>9999-01-01</td>\n",
       "    </tr>\n",
       "    <tr>\n",
       "      <th>1</th>\n",
       "      <td>10002</td>\n",
       "      <td>Staff</td>\n",
       "      <td>1996-08-03</td>\n",
       "      <td>9999-01-01</td>\n",
       "    </tr>\n",
       "    <tr>\n",
       "      <th>2</th>\n",
       "      <td>10003</td>\n",
       "      <td>Senior Engineer</td>\n",
       "      <td>1995-12-03</td>\n",
       "      <td>9999-01-01</td>\n",
       "    </tr>\n",
       "    <tr>\n",
       "      <th>3</th>\n",
       "      <td>10004</td>\n",
       "      <td>Engineer</td>\n",
       "      <td>1986-12-01</td>\n",
       "      <td>1995-12-01</td>\n",
       "    </tr>\n",
       "    <tr>\n",
       "      <th>4</th>\n",
       "      <td>10004</td>\n",
       "      <td>Senior Engineer</td>\n",
       "      <td>1995-12-01</td>\n",
       "      <td>9999-01-01</td>\n",
       "    </tr>\n",
       "    <tr>\n",
       "      <th>...</th>\n",
       "      <td>...</td>\n",
       "      <td>...</td>\n",
       "      <td>...</td>\n",
       "      <td>...</td>\n",
       "    </tr>\n",
       "    <tr>\n",
       "      <th>443303</th>\n",
       "      <td>499997</td>\n",
       "      <td>Engineer</td>\n",
       "      <td>1987-08-30</td>\n",
       "      <td>1992-08-29</td>\n",
       "    </tr>\n",
       "    <tr>\n",
       "      <th>443304</th>\n",
       "      <td>499997</td>\n",
       "      <td>Senior Engineer</td>\n",
       "      <td>1992-08-29</td>\n",
       "      <td>9999-01-01</td>\n",
       "    </tr>\n",
       "    <tr>\n",
       "      <th>443305</th>\n",
       "      <td>499998</td>\n",
       "      <td>Senior Staff</td>\n",
       "      <td>1998-12-27</td>\n",
       "      <td>9999-01-01</td>\n",
       "    </tr>\n",
       "    <tr>\n",
       "      <th>443306</th>\n",
       "      <td>499998</td>\n",
       "      <td>Staff</td>\n",
       "      <td>1993-12-27</td>\n",
       "      <td>1998-12-27</td>\n",
       "    </tr>\n",
       "    <tr>\n",
       "      <th>443307</th>\n",
       "      <td>499999</td>\n",
       "      <td>Engineer</td>\n",
       "      <td>1997-11-30</td>\n",
       "      <td>9999-01-01</td>\n",
       "    </tr>\n",
       "  </tbody>\n",
       "</table>\n",
       "<p>443308 rows × 4 columns</p>\n",
       "</div>"
      ],
      "text/plain": [
       "        emp_no            title   from_date     to_date\n",
       "0        10001  Senior Engineer  1986-06-26  9999-01-01\n",
       "1        10002            Staff  1996-08-03  9999-01-01\n",
       "2        10003  Senior Engineer  1995-12-03  9999-01-01\n",
       "3        10004         Engineer  1986-12-01  1995-12-01\n",
       "4        10004  Senior Engineer  1995-12-01  9999-01-01\n",
       "...        ...              ...         ...         ...\n",
       "443303  499997         Engineer  1987-08-30  1992-08-29\n",
       "443304  499997  Senior Engineer  1992-08-29  9999-01-01\n",
       "443305  499998     Senior Staff  1998-12-27  9999-01-01\n",
       "443306  499998            Staff  1993-12-27  1998-12-27\n",
       "443307  499999         Engineer  1997-11-30  9999-01-01\n",
       "\n",
       "[443308 rows x 4 columns]"
      ]
     },
     "execution_count": 69,
     "metadata": {},
     "output_type": "execute_result"
    }
   ],
   "source": [
    "df_titles = pd.read_sql('select * from titles', url)\n",
    "df_titles"
   ]
  },
  {
   "cell_type": "markdown",
   "id": "85dd9386-2cbf-419c-873e-74b9e365c4e1",
   "metadata": {
    "tags": []
   },
   "source": [
    "### How many rows and columns do you have in each DataFrame? Is that what you expected?"
   ]
  },
  {
   "cell_type": "code",
   "execution_count": 59,
   "id": "a5819d1e-f9b2-4904-af43-fa46601dec7f",
   "metadata": {
    "tags": []
   },
   "outputs": [
    {
     "data": {
      "text/plain": [
       "(300024, 6)"
      ]
     },
     "execution_count": 59,
     "metadata": {},
     "output_type": "execute_result"
    }
   ],
   "source": [
    "df_employees.shape\n",
    "# yes, this is what I expected"
   ]
  },
  {
   "cell_type": "code",
   "execution_count": 60,
   "id": "22784db6-c5b5-48e0-8f0a-25b36118ceb0",
   "metadata": {
    "tags": []
   },
   "outputs": [
    {
     "data": {
      "text/plain": [
       "(443308, 4)"
      ]
     },
     "execution_count": 60,
     "metadata": {},
     "output_type": "execute_result"
    }
   ],
   "source": [
    "df_titles.shape\n",
    "# yes, this is what I expected"
   ]
  },
  {
   "cell_type": "markdown",
   "id": "02a422ed-b35b-49b0-9944-051717d1423d",
   "metadata": {},
   "source": [
    "### Display the summary statistics for each DataFrame."
   ]
  },
  {
   "cell_type": "code",
   "execution_count": 65,
   "id": "bb35d047-88b5-430e-a662-d39eb65f60b9",
   "metadata": {
    "tags": []
   },
   "outputs": [
    {
     "data": {
      "text/html": [
       "<div>\n",
       "<style scoped>\n",
       "    .dataframe tbody tr th:only-of-type {\n",
       "        vertical-align: middle;\n",
       "    }\n",
       "\n",
       "    .dataframe tbody tr th {\n",
       "        vertical-align: top;\n",
       "    }\n",
       "\n",
       "    .dataframe thead th {\n",
       "        text-align: right;\n",
       "    }\n",
       "</style>\n",
       "<table border=\"1\" class=\"dataframe\">\n",
       "  <thead>\n",
       "    <tr style=\"text-align: right;\">\n",
       "      <th></th>\n",
       "      <th>emp_no</th>\n",
       "    </tr>\n",
       "  </thead>\n",
       "  <tbody>\n",
       "    <tr>\n",
       "      <th>count</th>\n",
       "      <td>300024.000000</td>\n",
       "    </tr>\n",
       "    <tr>\n",
       "      <th>mean</th>\n",
       "      <td>253321.763392</td>\n",
       "    </tr>\n",
       "    <tr>\n",
       "      <th>std</th>\n",
       "      <td>161828.235540</td>\n",
       "    </tr>\n",
       "    <tr>\n",
       "      <th>min</th>\n",
       "      <td>10001.000000</td>\n",
       "    </tr>\n",
       "    <tr>\n",
       "      <th>25%</th>\n",
       "      <td>85006.750000</td>\n",
       "    </tr>\n",
       "    <tr>\n",
       "      <th>50%</th>\n",
       "      <td>249987.500000</td>\n",
       "    </tr>\n",
       "    <tr>\n",
       "      <th>75%</th>\n",
       "      <td>424993.250000</td>\n",
       "    </tr>\n",
       "    <tr>\n",
       "      <th>max</th>\n",
       "      <td>499999.000000</td>\n",
       "    </tr>\n",
       "  </tbody>\n",
       "</table>\n",
       "</div>"
      ],
      "text/plain": [
       "              emp_no\n",
       "count  300024.000000\n",
       "mean   253321.763392\n",
       "std    161828.235540\n",
       "min     10001.000000\n",
       "25%     85006.750000\n",
       "50%    249987.500000\n",
       "75%    424993.250000\n",
       "max    499999.000000"
      ]
     },
     "execution_count": 65,
     "metadata": {},
     "output_type": "execute_result"
    }
   ],
   "source": [
    "df_employees.describe()"
   ]
  },
  {
   "cell_type": "code",
   "execution_count": 66,
   "id": "bb21e8b4-caf8-4255-a191-507270e3df26",
   "metadata": {
    "tags": []
   },
   "outputs": [
    {
     "data": {
      "text/html": [
       "<div>\n",
       "<style scoped>\n",
       "    .dataframe tbody tr th:only-of-type {\n",
       "        vertical-align: middle;\n",
       "    }\n",
       "\n",
       "    .dataframe tbody tr th {\n",
       "        vertical-align: top;\n",
       "    }\n",
       "\n",
       "    .dataframe thead th {\n",
       "        text-align: right;\n",
       "    }\n",
       "</style>\n",
       "<table border=\"1\" class=\"dataframe\">\n",
       "  <thead>\n",
       "    <tr style=\"text-align: right;\">\n",
       "      <th></th>\n",
       "      <th>emp_no</th>\n",
       "    </tr>\n",
       "  </thead>\n",
       "  <tbody>\n",
       "    <tr>\n",
       "      <th>count</th>\n",
       "      <td>443308.000000</td>\n",
       "    </tr>\n",
       "    <tr>\n",
       "      <th>mean</th>\n",
       "      <td>253075.034430</td>\n",
       "    </tr>\n",
       "    <tr>\n",
       "      <th>std</th>\n",
       "      <td>161853.292613</td>\n",
       "    </tr>\n",
       "    <tr>\n",
       "      <th>min</th>\n",
       "      <td>10001.000000</td>\n",
       "    </tr>\n",
       "    <tr>\n",
       "      <th>25%</th>\n",
       "      <td>84855.750000</td>\n",
       "    </tr>\n",
       "    <tr>\n",
       "      <th>50%</th>\n",
       "      <td>249847.500000</td>\n",
       "    </tr>\n",
       "    <tr>\n",
       "      <th>75%</th>\n",
       "      <td>424891.250000</td>\n",
       "    </tr>\n",
       "    <tr>\n",
       "      <th>max</th>\n",
       "      <td>499999.000000</td>\n",
       "    </tr>\n",
       "  </tbody>\n",
       "</table>\n",
       "</div>"
      ],
      "text/plain": [
       "              emp_no\n",
       "count  443308.000000\n",
       "mean   253075.034430\n",
       "std    161853.292613\n",
       "min     10001.000000\n",
       "25%     84855.750000\n",
       "50%    249847.500000\n",
       "75%    424891.250000\n",
       "max    499999.000000"
      ]
     },
     "execution_count": 66,
     "metadata": {},
     "output_type": "execute_result"
    }
   ],
   "source": [
    "df_titles.describe()"
   ]
  },
  {
   "cell_type": "markdown",
   "id": "9b68f532-928d-4b19-bf01-b84d094c5f09",
   "metadata": {},
   "source": [
    "### How many unique titles are in the titles DataFrame?"
   ]
  },
  {
   "cell_type": "code",
   "execution_count": 80,
   "id": "a123624d-7eaa-413a-bc54-2931ce27fa3f",
   "metadata": {
    "tags": []
   },
   "outputs": [
    {
     "data": {
      "text/plain": [
       "7"
      ]
     },
     "execution_count": 80,
     "metadata": {},
     "output_type": "execute_result"
    }
   ],
   "source": [
    "df_titles.title.nunique()"
   ]
  },
  {
   "cell_type": "markdown",
   "id": "2643104b-379e-40dd-9258-703f14560fe7",
   "metadata": {},
   "source": [
    "### What is the oldest date in the to_date column?"
   ]
  },
  {
   "cell_type": "code",
   "execution_count": 85,
   "id": "5f84b47c-3775-4774-88f6-5cea390482c6",
   "metadata": {
    "tags": []
   },
   "outputs": [
    {
     "data": {
      "text/plain": [
       "16064    1985-03-01\n",
       "Name: to_date, dtype: object"
      ]
     },
     "execution_count": 85,
     "metadata": {},
     "output_type": "execute_result"
    }
   ],
   "source": [
    "df_titles.to_date.sort_values().head(1)"
   ]
  },
  {
   "cell_type": "markdown",
   "id": "99bf2a62-07dc-4715-a28a-b5b7b38c8ea5",
   "metadata": {},
   "source": [
    "### What is the most recent date in the to_date column?"
   ]
  },
  {
   "cell_type": "code",
   "execution_count": 94,
   "id": "f179c957-c73c-48a5-a062-0c25bf460d79",
   "metadata": {
    "tags": []
   },
   "outputs": [
    {
     "data": {
      "text/plain": [
       "0    9999-01-01\n",
       "Name: to_date, dtype: object"
      ]
     },
     "execution_count": 94,
     "metadata": {},
     "output_type": "execute_result"
    }
   ],
   "source": [
    "df_titles.to_date.sort_values(ascending = False).head(1)"
   ]
  }
 ],
 "metadata": {
  "kernelspec": {
   "display_name": "Python 3 (ipykernel)",
   "language": "python",
   "name": "python3"
  },
  "language_info": {
   "codemirror_mode": {
    "name": "ipython",
    "version": 3
   },
   "file_extension": ".py",
   "mimetype": "text/x-python",
   "name": "python",
   "nbconvert_exporter": "python",
   "pygments_lexer": "ipython3",
   "version": "3.11.5"
  }
 },
 "nbformat": 4,
 "nbformat_minor": 5
}
